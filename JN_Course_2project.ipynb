{
  "metadata": {
    "language_info": {
      "codemirror_mode": {
        "name": "python",
        "version": 3
      },
      "file_extension": ".py",
      "mimetype": "text/x-python",
      "name": "python",
      "nbconvert_exporter": "python",
      "pygments_lexer": "ipython3",
      "version": "3.8"
    },
    "kernelspec": {
      "name": "python",
      "display_name": "Pyolite",
      "language": "python"
    }
  },
  "nbformat_minor": 4,
  "nbformat": 4,
  "cells": [
    {
      "cell_type": "markdown",
      "source": "# My Jupyter Notebook on IBM Watson Studio",
      "metadata": {}
    },
    {
      "cell_type": "markdown",
      "source": "**Maurizio Bernal**\n\nCommercial Driver and aspiring data scientists.",
      "metadata": {}
    },
    {
      "cell_type": "markdown",
      "source": "*I aspire to be a data scientists because I believe data science can help us solve many of society's problems as well as better the human experience while advancing our civilization.*",
      "metadata": {}
    },
    {
      "cell_type": "markdown",
      "source": "### The below code displays the \"price\" variable multiplied by 4",
      "metadata": {}
    },
    {
      "cell_type": "code",
      "source": "price= 10\nprint(price*4)\n",
      "metadata": {
        "trusted": true
      },
      "execution_count": 2,
      "outputs": [
        {
          "name": "stdout",
          "text": "40\n",
          "output_type": "stream"
        }
      ]
    },
    {
      "cell_type": "markdown",
      "source": ">Line one  \n>Line two  \n>Line Three\n1. One\n2. Two\n3. Three\n* Apples\n* Oranges\n* Strawberries\n\n",
      "metadata": {}
    }
  ]
}